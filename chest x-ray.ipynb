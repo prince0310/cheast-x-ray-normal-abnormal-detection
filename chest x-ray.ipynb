{
 "cells": [
  {
   "cell_type": "markdown",
   "id": "f637e7b7",
   "metadata": {},
   "source": [
    "## import usefull library\n"
   ]
  },
  {
   "cell_type": "code",
   "execution_count": 60,
   "id": "72fd4c2d",
   "metadata": {},
   "outputs": [],
   "source": [
    "import numpy as np\n",
    "import os\n",
    "import cv2 \n",
    "import matplotlib.pyplot as plt"
   ]
  },
  {
   "cell_type": "markdown",
   "id": "a87489f5",
   "metadata": {},
   "source": [
    "## Path of dataset"
   ]
  },
  {
   "cell_type": "code",
   "execution_count": 61,
   "id": "a46635ed",
   "metadata": {},
   "outputs": [],
   "source": [
    "directory = r\"C:\\Users\\Prince\\chest_xray\\train\" \n",
    "folders = ['NORMAL', 'PNEUMONIA']"
   ]
  },
  {
   "cell_type": "markdown",
   "id": "a648facd",
   "metadata": {},
   "source": [
    "## Fetching the images and store in array"
   ]
  },
  {
   "cell_type": "code",
   "execution_count": 62,
   "id": "b80f90ac",
   "metadata": {},
   "outputs": [],
   "source": [
    "data = []\n",
    "for folder in folders :\n",
    "    path = os.path.join(directory,folder)\n",
    "    for images in os.listdir(path):\n",
    "        image_path = os.path.join(path,images)\n",
    "        label = folders.index(folder)\n",
    "        arr = cv2.imread(image_path, cv2.IMREAD_GRAYSCALE)\n",
    "        new_arr = cv2.resize(arr,(60,60))\n",
    "        data.append([new_arr, label])"
   ]
  },
  {
   "cell_type": "markdown",
   "id": "2ff01bfb",
   "metadata": {},
   "source": [
    "## shuffle all the images "
   ]
  },
  {
   "cell_type": "code",
   "execution_count": 63,
   "id": "a16569d4",
   "metadata": {},
   "outputs": [],
   "source": [
    "import random \n",
    "random.shuffle(data)"
   ]
  },
  {
   "cell_type": "code",
   "execution_count": 64,
   "id": "54dff1df",
   "metadata": {},
   "outputs": [],
   "source": [
    "x = []\n",
    "y = []\n"
   ]
  },
  {
   "cell_type": "code",
   "execution_count": 65,
   "id": "a13869d0",
   "metadata": {},
   "outputs": [],
   "source": [
    "for features, label in data:\n",
    "    x.append(features)\n",
    "    y.append(label)"
   ]
  },
  {
   "cell_type": "markdown",
   "id": "bfa996ad",
   "metadata": {},
   "source": [
    "## convert into array for faster operation"
   ]
  },
  {
   "cell_type": "code",
   "execution_count": 66,
   "id": "fc67d907",
   "metadata": {},
   "outputs": [],
   "source": [
    "x = np.array(x)\n",
    "y = np.array(y)"
   ]
  },
  {
   "cell_type": "code",
   "execution_count": 72,
   "id": "70c2e97a",
   "metadata": {},
   "outputs": [],
   "source": [
    "x = x.reshape(-1, 60, 60, 1)"
   ]
  },
  {
   "cell_type": "code",
   "execution_count": 73,
   "id": "5f97697c",
   "metadata": {},
   "outputs": [],
   "source": [
    "x = x/255"
   ]
  },
  {
   "cell_type": "code",
   "execution_count": 74,
   "id": "8fd98ca7",
   "metadata": {},
   "outputs": [],
   "source": [
    "from keras.models import Sequential\n",
    "from keras.layers import Conv2D, MaxPooling2D, Dense, Flatten"
   ]
  },
  {
   "cell_type": "markdown",
   "id": "0c4d1d12",
   "metadata": {},
   "source": [
    "## Making a convolutional nural network"
   ]
  },
  {
   "cell_type": "code",
   "execution_count": 75,
   "id": "2dedec32",
   "metadata": {},
   "outputs": [],
   "source": [
    "model = Sequential()\n",
    "\n",
    "model.add(Conv2D(32, (3,3), activation = 'relu'))\n",
    "model.add(MaxPooling2D((2,2)))\n",
    "\n",
    "model.add(Conv2D(64, (3,3), activation = 'relu'))\n",
    "model.add(MaxPooling2D((2,2)))\n",
    "\n",
    "model.add(Conv2D(128, (3,3), activation = 'relu'))\n",
    "model.add(MaxPooling2D((2,2)))\n",
    "\n",
    "model.add(Conv2D(256, (3,3), activation = 'relu'))\n",
    "model.add(MaxPooling2D((2,2)))\n",
    "\n",
    "model.add(Flatten())\n",
    "\n",
    "model.add(Dense(128, input_shape = x.shape[1:], activation = 'relu'))\n",
    "\n",
    "model.add(Dense(2, activation = 'sigmoid'))"
   ]
  },
  {
   "cell_type": "markdown",
   "id": "b95b2270",
   "metadata": {},
   "source": [
    "## Compile the model"
   ]
  },
  {
   "cell_type": "code",
   "execution_count": 76,
   "id": "cf47d753",
   "metadata": {},
   "outputs": [],
   "source": [
    "model.compile(optimizer = 'adam',\n",
    "             loss = 'sparse_categorical_crossentropy',\n",
    "             metrics = ['accuracy'])\n",
    "# model.compile(optimizer='adam',\n",
    "#               loss='sparse_categorical_crossentropy',\n",
    "#               metrics=['accuracy']) "
   ]
  },
  {
   "cell_type": "code",
   "execution_count": 77,
   "id": "6aa47629",
   "metadata": {},
   "outputs": [
    {
     "name": "stdout",
     "output_type": "stream",
     "text": [
      "Epoch 1/5\n",
      "147/147 [==============================] - 13s 81ms/step - loss: 0.4920 - accuracy: 0.7710 - val_loss: 0.2771 - val_accuracy: 0.9080\n",
      "Epoch 2/5\n",
      "147/147 [==============================] - 12s 79ms/step - loss: 0.2337 - accuracy: 0.9065 - val_loss: 0.1489 - val_accuracy: 0.9387\n",
      "Epoch 3/5\n",
      "147/147 [==============================] - 12s 81ms/step - loss: 0.1464 - accuracy: 0.9433 - val_loss: 0.1237 - val_accuracy: 0.9540\n",
      "Epoch 4/5\n",
      "147/147 [==============================] - 12s 79ms/step - loss: 0.1022 - accuracy: 0.9623 - val_loss: 0.1020 - val_accuracy: 0.9540\n",
      "Epoch 5/5\n",
      "147/147 [==============================] - 13s 86ms/step - loss: 0.0921 - accuracy: 0.9653 - val_loss: 0.0749 - val_accuracy: 0.9732\n"
     ]
    },
    {
     "data": {
      "text/plain": [
       "<keras.callbacks.History at 0x1a0becc1e20>"
      ]
     },
     "execution_count": 77,
     "metadata": {},
     "output_type": "execute_result"
    }
   ],
   "source": [
    "model.fit(x, y, epochs=5, validation_split=0.1) "
   ]
  },
  {
   "cell_type": "code",
   "execution_count": null,
   "id": "c88c46b0",
   "metadata": {},
   "outputs": [],
   "source": []
  }
 ],
 "metadata": {
  "kernelspec": {
   "display_name": "Python 3 (ipykernel)",
   "language": "python",
   "name": "python3"
  },
  "language_info": {
   "codemirror_mode": {
    "name": "ipython",
    "version": 3
   },
   "file_extension": ".py",
   "mimetype": "text/x-python",
   "name": "python",
   "nbconvert_exporter": "python",
   "pygments_lexer": "ipython3",
   "version": "3.9.7"
  }
 },
 "nbformat": 4,
 "nbformat_minor": 5
}
